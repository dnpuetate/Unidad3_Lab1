{
 "cells": [
  {
   "cell_type": "code",
   "execution_count": 8,
   "metadata": {},
   "outputs": [],
   "source": [
    "#Importar las librerías\n",
    "import collections"
   ]
  },
  {
   "cell_type": "code",
   "execution_count": 9,
   "metadata": {},
   "outputs": [],
   "source": [
    "\"\"\"\n",
    "Cree una lista de diccionarios que contengan las palabras más \n",
    "frecuentes, sus frecuencias y otros datos de Zipfian.\n",
    "\n",
    "\"\"\"\n",
    "def generate_zipf_table(text, top):\n",
    "    \n",
    "    text = _remove_punctuation(text)\n",
    "\n",
    "    text = text.lower()\n",
    "\n",
    "    top_word_frequencies = _top_word_frequencies(text, top)\n",
    "\n",
    "    zipf_table = _create_zipf_table(top_word_frequencies)\n",
    "\n",
    "    return zipf_table"
   ]
  },
  {
   "cell_type": "code",
   "execution_count": 10,
   "metadata": {},
   "outputs": [],
   "source": [
    "#Función para remover los caracteres del texto\n",
    "def _remove_punctuation(text):\n",
    "\n",
    "    chars_to_remove = \"!\\\"#$%&'()*+,-./:;<=>?@[\\]^_`{|}~0123456789\"\n",
    "\n",
    "    tr = str.maketrans(\"\", \"\", chars_to_remove)\n",
    "\n",
    "    return text.translate(tr)"
   ]
  },
  {
   "cell_type": "code",
   "execution_count": 14,
   "metadata": {},
   "outputs": [],
   "source": [
    "\"\"\"\n",
    "    Crea una lista de tuplas que contengan las palabras \n",
    "    más frecuentes y sus frecuencias en orden descendente.\n",
    "\n",
    "\"\"\"\n",
    "\n",
    "def _top_word_frequencies(text, top):\n",
    "    \n",
    "    words = text.split()\n",
    "    word_frequencies = collections.Counter(words)\n",
    "    #Entrega las palabras en orden descendente en una lista \n",
    "    top_word_frequencies = word_frequencies.most_common(top)\n",
    "\n",
    "    return top_word_frequencies"
   ]
  },
  {
   "cell_type": "code",
   "execution_count": 15,
   "metadata": {},
   "outputs": [],
   "source": [
    " \"\"\"\n",
    "    Toma la lista creada por _top_word_frequencies y la inserta en\n",
    "    una lista de diccionarios, junto con los datos de Zipfian.\n",
    "    \n",
    "\"\"\"\n",
    "def _create_zipf_table(frequencies):\n",
    "    zipf_table = []\n",
    "\n",
    "    top_frequency = frequencies[0][1]\n",
    "\n",
    "    for index, item in enumerate(frequencies, start=1):\n",
    "\n",
    "        relative_frequency = \"1/{}\".format(index)\n",
    "        zipf_frequency = top_frequency * (1 / index)\n",
    "        difference_actual = item[1] - zipf_frequency\n",
    "        difference_percent = (item[1] / zipf_frequency) * 100\n",
    "\n",
    "        zipf_table.append({\"word\": item[0],\n",
    "                           \"actual_frequency\": item[1],\n",
    "                           \"relative_frequency\": relative_frequency,\n",
    "                           \"zipf_frequency\": zipf_frequency,\n",
    "                           \"difference_actual\": difference_actual,\n",
    "                           \"difference_percent\": difference_percent})\n",
    "\n",
    "    return zipf_table    "
   ]
  },
  {
   "cell_type": "code",
   "execution_count": 13,
   "metadata": {},
   "outputs": [],
   "source": [
    "\"\"\"\n",
    "     Imprime la lista creada por generate_zipf_table en\n",
    "     formato de tabla con encabezados de columna.\n",
    "\n",
    "\"\"\"\n",
    "def print_zipf_table(zipf_table):\n",
    "    \n",
    "    width = 80\n",
    "    print(\"-\" * width)\n",
    "    print(\"|Rank|    Word    |Actual Freq | Zipf Frac  | Zipf Freq  |Actual Diff |Pct Diff|\")\n",
    "    print(\"-\" * width)\n",
    "\n",
    "    format_string = \"|{:4}|{:12}|{:12.0f}|{:>12}|{:12.2f}|{:12.2f}|{:7.2f}%|\"\n",
    "\n",
    "    for index, item in enumerate(zipf_table, start=1):\n",
    "\n",
    "        print(format_string.format(index,\n",
    "                                   item[\"word\"],\n",
    "                                   item[\"actual_frequency\"],\n",
    "                                   item[\"relative_frequency\"],\n",
    "                                   item[\"zipf_frequency\"],\n",
    "                                   item[\"difference_actual\"],\n",
    "                                   item[\"difference_percent\"]))\n",
    "    print(\"-\" * width)"
   ]
  },
  {
   "cell_type": "markdown",
   "metadata": {},
   "source": [
    "**Ejecución del código**"
   ]
  },
  {
   "cell_type": "code",
   "execution_count": null,
   "metadata": {},
   "outputs": [],
   "source": [
    "#Función principal\n",
    "def main():\n",
    "\n",
    "    print(\"-----------------\")\n",
    "    print(\"| codedrome.com |\")\n",
    "    print(\"| Zipf's Law    |\")\n",
    "    print(\"-----------------\\n\")\n",
    "\n",
    "    try:\n",
    "\n",
    "        f = open(\"dracula.txt\", \"r\", encoding=\"utf8\")\n",
    "        text = f.read()\n",
    "        f.close()\n",
    "\n",
    "        zipf_table = generate_zipf_table(text, 135)\n",
    "\n",
    "        print_zipf_table(zipf_table)\n",
    "\n",
    "    except IOError as e:\n",
    "\n",
    "        print(e)"
   ]
  },
  {
   "cell_type": "code",
   "execution_count": null,
   "metadata": {},
   "outputs": [],
   "source": [
    "#Ejecución del código (Main)\n",
    "main()"
   ]
  }
 ],
 "metadata": {
  "kernelspec": {
   "display_name": "Python 3",
   "language": "python",
   "name": "python3"
  }
 },
 "nbformat": 4,
 "nbformat_minor": 4
}
